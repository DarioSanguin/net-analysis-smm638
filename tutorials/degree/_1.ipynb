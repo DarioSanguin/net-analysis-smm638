{
  "cells": [
    {
      "cell_type": "markdown",
      "source": [
        "# Setup"
      ],
      "metadata": {
        "nteract": {
          "transient": {
            "deleting": false
          }
        }
      }
    },
    {
      "cell_type": "code",
      "source": [
        "import numpy as np\n",
        "import networkx as nx\n",
        "import matplotlib.pyplot as plt"
      ],
      "outputs": [],
      "execution_count": null,
      "metadata": {
        "collapsed": true,
        "jupyter": {
          "source_hidden": false,
          "outputs_hidden": false
        },
        "nteract": {
          "transient": {
            "deleting": false
          }
        }
      }
    },
    {
      "cell_type": "code",
      "source": [
        "plt.style.use('fivethirtyeight')"
      ],
      "outputs": [],
      "execution_count": null,
      "metadata": {
        "collapsed": true,
        "jupyter": {
          "source_hidden": false,
          "outputs_hidden": false
        },
        "nteract": {
          "transient": {
            "deleting": false
          }
        }
      }
    },
    {
      "cell_type": "markdown",
      "source": [
        "# Simulation"
      ],
      "metadata": {
        "nteract": {
          "transient": {
            "deleting": false
          }
        }
      }
    },
    {
      "cell_type": "code",
      "source": [
        "# parms for random net\n",
        "n, p = 5000, 0.05\n",
        "seed = 333\n",
        "\n",
        "# graph\n",
        "rn = nx.fast_gnp_random_graph(n, p, directed=True, seed=seed)"
      ],
      "outputs": [],
      "execution_count": null,
      "metadata": {
        "collapsed": true,
        "jupyter": {
          "source_hidden": false,
          "outputs_hidden": false
        },
        "nteract": {
          "transient": {
            "deleting": false
          }
        }
      }
    },
    {
      "cell_type": "code",
      "source": [
        "# parms for scale-free net\n",
        "n, k, p = 5000, 5, 0.2\n",
        "\n",
        "# graph\n",
        "swn = nx.watts_strogatz_graph(n, k, p)"
      ],
      "outputs": [],
      "execution_count": null,
      "metadata": {
        "collapsed": true,
        "jupyter": {
          "source_hidden": false,
          "outputs_hidden": false
        },
        "nteract": {
          "transient": {
            "deleting": false
          }
        }
      }
    },
    {
      "cell_type": "markdown",
      "source": [
        "# Degree computation"
      ],
      "metadata": {
        "nteract": {
          "transient": {
            "deleting": false
          }
        }
      }
    },
    {
      "cell_type": "markdown",
      "source": [
        "## Random network degree distribution"
      ],
      "metadata": {
        "nteract": {
          "transient": {
            "deleting": false
          }
        }
      }
    },
    {
      "cell_type": "code",
      "source": [
        "# get nodal degree 'k' data as list\n",
        "k_rn = sorted([d for n, d in rn.degree()], reverse=True)\n",
        "\n",
        "# get 'p_k'\n",
        "p_k = np.unique(k_rn, return_index=True)\n",
        "\n",
        "# create figure\n",
        "fig = plt.figure(figsize=(6, 4))\n",
        "\n",
        "# add plot\n",
        "ax = fig.add_subplot(1, 1, 1)\n",
        "\n",
        "# plot data\n",
        "ax.scatter(p_k[0], p_k[1]/n, marker='o', color='black', alpha=0.4)\n",
        "\n",
        "# title\n",
        "ax.set_title(\"Degree distribution - Random Network\")\n",
        "\n",
        "# transform scales\n",
        "# ax.set_xscale('log')\n",
        "# ax.set_yscale('log')\n",
        "\n",
        "# labels\n",
        "ax.set_ylabel(\"Degree\")\n",
        "ax.set_xlabel(\"Rank\")\n",
        "\n",
        "# show plot\n",
        "plt.show()"
      ],
      "outputs": [],
      "execution_count": null,
      "metadata": {
        "collapsed": true,
        "jupyter": {
          "source_hidden": false,
          "outputs_hidden": false
        },
        "nteract": {
          "transient": {
            "deleting": false
          }
        }
      }
    },
    {
      "cell_type": "markdown",
      "source": [
        "## Small world network degree distribution"
      ],
      "metadata": {
        "nteract": {
          "transient": {
            "deleting": false
          }
        }
      }
    },
    {
      "cell_type": "code",
      "source": [
        "# get nodal degree 'k' data as list\n",
        "k_swn = sorted([d for n, d in swn.degree()], reverse=True)\n",
        "\n",
        "# get 'p_k'\n",
        "p_k = np.unique(k_swn, return_index=True)\n",
        "\n",
        "# create figure\n",
        "fig = plt.figure(figsize=(6, 4))\n",
        "\n",
        "# add plot\n",
        "ax = fig.add_subplot(1, 1, 1)\n",
        "\n",
        "# plot data\n",
        "ax.scatter(p_k[0], p_k[1]/n, marker='o', color='orange', alpha=0.4)\n",
        "\n",
        "# title\n",
        "ax.set_title(\"Degree distribution - Small World Network\")\n",
        "\n",
        "# transform scales\n",
        "# ax.set_xscale('log')\n",
        "# ax.set_yscale('log')\n",
        "\n",
        "# labels\n",
        "ax.set_ylabel(\"Degree\")\n",
        "ax.set_xlabel(\"Rank\")\n",
        "\n",
        "# show plot\n",
        "plt.show()"
      ],
      "outputs": [],
      "execution_count": null,
      "metadata": {
        "collapsed": true,
        "jupyter": {
          "source_hidden": false,
          "outputs_hidden": false
        },
        "nteract": {
          "transient": {
            "deleting": false
          }
        }
      }
    },
    {
      "cell_type": "code",
      "source": [
        "# create figure\n",
        "fig = plt.figure(figsize=(6, 4))\n",
        "\n",
        "# add plot\n",
        "ax = fig.add_subplot(1, 1, 1)\n",
        "\n",
        "# plot data\n",
        "ax.scatter(p_k[0], p_k[1]/n, marker='o', color='orange', alpha=1)\n",
        "\n",
        "# title\n",
        "ax.set_title(\"Degree distribution - Scale Free Network\")\n",
        "\n",
        "# transform scales\n",
        "ax.set_xscale('log')\n",
        "ax.set_yscale('log')\n",
        "\n",
        "# labels\n",
        "ax.set_ylabel(r\"$p_{k}$\")\n",
        "ax.set_xlabel(r\"$k$\")\n",
        "\n",
        "# show plot\n",
        "plt.show()"
      ],
      "outputs": [],
      "execution_count": null,
      "metadata": {
        "collapsed": true,
        "jupyter": {
          "source_hidden": false,
          "outputs_hidden": false
        },
        "nteract": {
          "transient": {
            "deleting": false
          }
        }
      }
    },
    {
      "cell_type": "markdown",
      "source": [
        "## Random vs small world network degree distribution"
      ],
      "metadata": {
        "nteract": {
          "transient": {
            "deleting": false
          }
        }
      }
    },
    {
      "cell_type": "code",
      "source": [
        "# create figure\n",
        "fig = plt.figure(figsize=(6, 4))\n",
        "\n",
        "# add plot\n",
        "ax = fig.add_subplot(1, 1, 1)\n",
        "\n",
        "# plot data with Matplotlib builtin 'loglog'\n",
        "ax.loglog(k_swn, marker='o', color='orange', alpha=0.4, label='Small world net.')\n",
        "ax.loglog(k_rn, marker='o', color='black', alpha=0.4,  label='Random net.')\n",
        "\n",
        "# title\n",
        "ax.set_title(\"Degree rank plot\")\n",
        "\n",
        "# labels\n",
        "ax.set_ylabel(r\"$k$\")\n",
        "ax.set_xlabel(\"Rank order\")\n",
        "\n",
        "# legend\n",
        "ax.legend(loc=\"best\")\n",
        "\n",
        "# show plot\n",
        "plt.show()"
      ],
      "outputs": [],
      "execution_count": null,
      "metadata": {
        "collapsed": true,
        "jupyter": {
          "source_hidden": false,
          "outputs_hidden": false
        },
        "nteract": {
          "transient": {
            "deleting": false
          }
        }
      }
    }
  ],
  "metadata": {
    "kernelspec": {
      "argv": [
        "python",
        "-m",
        "ipykernel_launcher",
        "-f",
        "{connection_file}"
      ],
      "display_name": "Python 3",
      "language": "python",
      "name": "python3"
    }
  },
  "nbformat": 4,
  "nbformat_minor": 0
}